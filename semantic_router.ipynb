{
 "cells": [
  {
   "cell_type": "code",
   "execution_count": 1,
   "metadata": {},
   "outputs": [],
   "source": [
    "from semantic_router import Route\n",
    "from semantic_router.encoders import OpenAIEncoder, HuggingFaceEncoder\n",
    "from semantic_router import RouteLayer\n",
    "import pandas as pd"
   ]
  },
  {
   "cell_type": "code",
   "execution_count": 2,
   "metadata": {},
   "outputs": [],
   "source": [
    "# Load the dataframes json files\n",
    "df_loaded = pd.read_json(\"synthetic_messages.json\")"
   ]
  },
  {
   "cell_type": "code",
   "execution_count": 3,
   "metadata": {},
   "outputs": [],
   "source": [
    "X = df_loaded[['Id','Message']]\n",
    "y = df_loaded['Intention'].to_list()"
   ]
  },
  {
   "cell_type": "code",
   "execution_count": 4,
   "metadata": {},
   "outputs": [],
   "source": [
    "from sklearn.model_selection import train_test_split\n",
    "\n",
    "# Split the dataset with stratification\n",
    "X_train, X_test, y_train, y_test = train_test_split(\n",
    "    X, y, test_size=0.1, random_state=0, stratify=y\n",
    ")"
   ]
  },
  {
   "cell_type": "code",
   "execution_count": 5,
   "metadata": {},
   "outputs": [],
   "source": [
    "# Replace \"None\" with None\n",
    "y_train = [None if i == \"None\" else i for i in y_train]\n",
    "y_test = [None if i == \"None\" else i for i in y_test]"
   ]
  },
  {
   "cell_type": "code",
   "execution_count": 6,
   "metadata": {},
   "outputs": [],
   "source": [
    "# Set the column Id as the index\n",
    "X_train.set_index('Id', inplace=True)\n",
    "X_test.set_index('Id', inplace=True)"
   ]
  },
  {
   "cell_type": "code",
   "execution_count": 7,
   "metadata": {},
   "outputs": [],
   "source": [
    "order_status_messages = []\n",
    "create_order_messages = []\n",
    "product_information_messages = []\n",
    "\n",
    "for message, label in zip(X_train[\"Message\"], y_train):\n",
    "    if label == 'order_status':\n",
    "        order_status_messages.append(message)\n",
    "    elif label == 'create_order':\n",
    "        create_order_messages.append(message)\n",
    "    elif label == 'product_information':\n",
    "        product_information_messages.append(message)"
   ]
  },
  {
   "cell_type": "markdown",
   "metadata": {},
   "source": [
    "We start by defining a dictionary mapping routes to example phrases that should trigger those routes."
   ]
  },
  {
   "cell_type": "code",
   "execution_count": 8,
   "metadata": {},
   "outputs": [],
   "source": [
    "order_status = Route(\n",
    "    name=\"order_status\",\n",
    "    description=\"The user wants to know the status of their order.\",\n",
    "    utterances=order_status_messages,\n",
    ")\n",
    "\n",
    "create_order = Route(\n",
    "    name=\"create_order\",\n",
    "    description=\"The user intends to place an order for a product on the Cobuy platform.\",\n",
    "    utterances=create_order_messages,\n",
    ")\n",
    "\n",
    "product_information = Route(\n",
    "    name=\"product_information\",\n",
    "    description=\"The user is interested in obtaining information about a specific product available on the Cobuy platform.\",\n",
    "    utterances=product_information_messages,\n",
    ")"
   ]
  },
  {
   "cell_type": "markdown",
   "metadata": {},
   "source": [
    "Let's create a list of routes:"
   ]
  },
  {
   "cell_type": "code",
   "execution_count": 9,
   "metadata": {},
   "outputs": [],
   "source": [
    "routes = [order_status, create_order, product_information]"
   ]
  },
  {
   "cell_type": "markdown",
   "metadata": {},
   "source": [
    "We define a route layer using these routes and using the OpenAI encoder."
   ]
  },
  {
   "cell_type": "code",
   "execution_count": 10,
   "metadata": {},
   "outputs": [],
   "source": [
    "encoder = HuggingFaceEncoder()\n",
    "hf_rl = RouteLayer(encoder=encoder, routes=routes) #aggregation = \"mean\", \"max\" or \"sum\". #top_k = 5"
   ]
  },
  {
   "cell_type": "code",
   "execution_count": 11,
   "metadata": {},
   "outputs": [],
   "source": [
    "encoder = OpenAIEncoder()\n",
    "oa_rl = RouteLayer(encoder=encoder, routes=routes) #aggregation = \"mean\", \"max\" or \"sum\" #top_k = 5"
   ]
  },
  {
   "cell_type": "markdown",
   "metadata": {},
   "source": [
    "Now we can test it:"
   ]
  },
  {
   "cell_type": "code",
   "execution_count": 12,
   "metadata": {},
   "outputs": [
    {
     "data": {
      "text/plain": [
       "RouteChoice(name=None, function_call=None, similarity_score=None)"
      ]
     },
     "execution_count": 12,
     "metadata": {},
     "output_type": "execute_result"
    }
   ],
   "source": [
    "hf_rl(\"how's the weather today?\")"
   ]
  },
  {
   "cell_type": "code",
   "execution_count": 13,
   "metadata": {},
   "outputs": [
    {
     "data": {
      "text/plain": [
       "RouteChoice(name=None, function_call=None, similarity_score=None)"
      ]
     },
     "execution_count": 13,
     "metadata": {},
     "output_type": "execute_result"
    }
   ],
   "source": [
    "oa_rl(\"how's the weather today?\")"
   ]
  },
  {
   "cell_type": "code",
   "execution_count": 14,
   "metadata": {},
   "outputs": [
    {
     "data": {
      "text/plain": [
       "[RouteChoice(name='create_order', function_call=None, similarity_score=0.5805390220278703)]"
      ]
     },
     "execution_count": 14,
     "metadata": {},
     "output_type": "execute_result"
    }
   ],
   "source": [
    "hf_rl.retrieve_multiple_routes(\"Hi! Can i get my order??\")"
   ]
  },
  {
   "cell_type": "code",
   "execution_count": 15,
   "metadata": {},
   "outputs": [
    {
     "data": {
      "text/plain": [
       "[RouteChoice(name='create_order', function_call=None, similarity_score=0.6125962591497243),\n",
       " RouteChoice(name='order_status', function_call=None, similarity_score=0.5912817734453557)]"
      ]
     },
     "execution_count": 15,
     "metadata": {},
     "output_type": "execute_result"
    }
   ],
   "source": [
    "oa_rl.retrieve_multiple_routes(\"Hi! Can i get my order??\")"
   ]
  },
  {
   "cell_type": "code",
   "execution_count": 16,
   "metadata": {},
   "outputs": [
    {
     "data": {
      "text/plain": [
       "[RouteChoice(name='create_order', function_call=None, similarity_score=0.5805390220278703)]"
      ]
     },
     "execution_count": 16,
     "metadata": {},
     "output_type": "execute_result"
    }
   ],
   "source": [
    "hf_rl.retrieve_multiple_routes(\"Hi! Can i get my order??\")"
   ]
  },
  {
   "cell_type": "code",
   "execution_count": 17,
   "metadata": {},
   "outputs": [
    {
     "data": {
      "text/plain": [
       "[RouteChoice(name='create_order', function_call=None, similarity_score=0.6125962591497243),\n",
       " RouteChoice(name='order_status', function_call=None, similarity_score=0.5912817734453557)]"
      ]
     },
     "execution_count": 17,
     "metadata": {},
     "output_type": "execute_result"
    }
   ],
   "source": [
    "oa_rl.retrieve_multiple_routes(\"Hi! Can i get my order??\")"
   ]
  },
  {
   "cell_type": "markdown",
   "metadata": {},
   "source": [
    "We can evaluate the performance of our route layer using the evaluate method. All we need is to pass a list of utterances and target route labels:"
   ]
  },
  {
   "cell_type": "code",
   "execution_count": 18,
   "metadata": {},
   "outputs": [
    {
     "data": {
      "application/vnd.jupyter.widget-view+json": {
       "model_id": "0a524ea29d3e4fe3b44b146fd09935db",
       "version_major": 2,
       "version_minor": 0
      },
      "text/plain": [
       "Generating embeddings:   0%|          | 0/1 [00:00<?, ?it/s]"
      ]
     },
     "metadata": {},
     "output_type": "display_data"
    },
    {
     "name": "stdout",
     "output_type": "stream",
     "text": [
      "Accuracy: 90.91%\n"
     ]
    }
   ],
   "source": [
    "# evaluate using the default thresholds\n",
    "accuracy = hf_rl.evaluate(X=X_test[\"Message\"].to_list(), y=y_test)\n",
    "print(f\"Accuracy: {accuracy*100:.2f}%\")"
   ]
  },
  {
   "cell_type": "code",
   "execution_count": 19,
   "metadata": {},
   "outputs": [
    {
     "data": {
      "application/vnd.jupyter.widget-view+json": {
       "model_id": "3399837b02274f72bb463fe4ecbf5075",
       "version_major": 2,
       "version_minor": 0
      },
      "text/plain": [
       "Generating embeddings:   0%|          | 0/1 [00:00<?, ?it/s]"
      ]
     },
     "metadata": {},
     "output_type": "display_data"
    },
    {
     "name": "stdout",
     "output_type": "stream",
     "text": [
      "Accuracy: 81.82%\n"
     ]
    }
   ],
   "source": [
    "# evaluate using the default thresholds\n",
    "accuracy = oa_rl.evaluate(X=X_test[\"Message\"].to_list(), y=y_test)\n",
    "print(f\"Accuracy: {accuracy*100:.2f}%\")"
   ]
  },
  {
   "cell_type": "markdown",
   "metadata": {},
   "source": [
    "On this subset we get reasonable accuracy."
   ]
  },
  {
   "cell_type": "markdown",
   "metadata": {},
   "source": [
    "\n",
    "## Route Layer Optimization\n",
    "\n",
    "Our optimization works by finding the best route thresholds for each Route in our RouteLayer. We can see the current, default thresholds by calling the get_thresholds method:"
   ]
  },
  {
   "cell_type": "code",
   "execution_count": 20,
   "metadata": {},
   "outputs": [
    {
     "name": "stdout",
     "output_type": "stream",
     "text": [
      "Default route thresholds: {'order_status': 0.5, 'create_order': 0.5, 'product_information': 0.5}\n"
     ]
    }
   ],
   "source": [
    "route_thresholds = hf_rl.get_thresholds()\n",
    "print(\"Default route thresholds:\", route_thresholds)"
   ]
  },
  {
   "cell_type": "code",
   "execution_count": 21,
   "metadata": {},
   "outputs": [
    {
     "name": "stdout",
     "output_type": "stream",
     "text": [
      "Default route thresholds: {'order_status': 0.5, 'create_order': 0.5, 'product_information': 0.5}\n"
     ]
    }
   ],
   "source": [
    "route_thresholds = oa_rl.get_thresholds()\n",
    "print(\"Default route thresholds:\", route_thresholds)"
   ]
  },
  {
   "cell_type": "markdown",
   "metadata": {},
   "source": [
    "These are all preset route threshold values. Fortunately, it's very easy to optimize these — we simply call the fit method and provide our training utterances X, and target route labels y:"
   ]
  },
  {
   "cell_type": "code",
   "execution_count": 22,
   "metadata": {},
   "outputs": [
    {
     "data": {
      "application/vnd.jupyter.widget-view+json": {
       "model_id": "36551d5e4be14f3a896b772ccda55766",
       "version_major": 2,
       "version_minor": 0
      },
      "text/plain": [
       "Generating embeddings:   0%|          | 0/1 [00:00<?, ?it/s]"
      ]
     },
     "metadata": {},
     "output_type": "display_data"
    },
    {
     "data": {
      "application/vnd.jupyter.widget-view+json": {
       "model_id": "8f9754fed78241db885b8875f4c70ca7",
       "version_major": 2,
       "version_minor": 0
      },
      "text/plain": [
       "Training:   0%|          | 0/500 [00:00<?, ?it/s]"
      ]
     },
     "metadata": {},
     "output_type": "display_data"
    }
   ],
   "source": [
    "# Call the fit method\n",
    "hf_rl.fit(X=X_train[\"Message\"].to_list(), y=y_train, max_iter=500)"
   ]
  },
  {
   "cell_type": "code",
   "execution_count": 23,
   "metadata": {},
   "outputs": [
    {
     "data": {
      "application/vnd.jupyter.widget-view+json": {
       "model_id": "ce4ab1539e05446fb22760b5e95e8454",
       "version_major": 2,
       "version_minor": 0
      },
      "text/plain": [
       "Generating embeddings:   0%|          | 0/1 [00:00<?, ?it/s]"
      ]
     },
     "metadata": {},
     "output_type": "display_data"
    },
    {
     "data": {
      "application/vnd.jupyter.widget-view+json": {
       "model_id": "92baf60acc79473b99f0844f72e6a8a6",
       "version_major": 2,
       "version_minor": 0
      },
      "text/plain": [
       "Training:   0%|          | 0/500 [00:00<?, ?it/s]"
      ]
     },
     "metadata": {},
     "output_type": "display_data"
    }
   ],
   "source": [
    "# Call the fit method\n",
    "oa_rl.fit(X=X_train[\"Message\"].to_list(), y=y_train, max_iter=500)"
   ]
  },
  {
   "cell_type": "markdown",
   "metadata": {},
   "source": [
    "Let's see what our new thresholds look like:"
   ]
  },
  {
   "cell_type": "code",
   "execution_count": 24,
   "metadata": {},
   "outputs": [
    {
     "name": "stdout",
     "output_type": "stream",
     "text": [
      "Updated route thresholds: {'order_status': 0.5, 'create_order': 0.5, 'product_information': 0.5}\n"
     ]
    }
   ],
   "source": [
    "route_thresholds = hf_rl.get_thresholds()\n",
    "print(\"Updated route thresholds:\", route_thresholds)"
   ]
  },
  {
   "cell_type": "code",
   "execution_count": 25,
   "metadata": {},
   "outputs": [
    {
     "name": "stdout",
     "output_type": "stream",
     "text": [
      "Updated route thresholds: {'order_status': 0.5, 'create_order': 0.5, 'product_information': 0.5}\n"
     ]
    }
   ],
   "source": [
    "route_thresholds = oa_rl.get_thresholds()\n",
    "print(\"Updated route thresholds:\", route_thresholds)"
   ]
  },
  {
   "cell_type": "markdown",
   "metadata": {},
   "source": [
    "These are vastly different thresholds to what we were seeing before — it's worth noting that optimal values for different encoders can vary greatly."
   ]
  },
  {
   "cell_type": "markdown",
   "metadata": {},
   "source": [
    "After training we have a final performance of:"
   ]
  },
  {
   "cell_type": "code",
   "execution_count": 26,
   "metadata": {},
   "outputs": [
    {
     "data": {
      "application/vnd.jupyter.widget-view+json": {
       "model_id": "a296f9511b544a63a43f4e602819b881",
       "version_major": 2,
       "version_minor": 0
      },
      "text/plain": [
       "Generating embeddings:   0%|          | 0/1 [00:00<?, ?it/s]"
      ]
     },
     "metadata": {},
     "output_type": "display_data"
    },
    {
     "name": "stdout",
     "output_type": "stream",
     "text": [
      "Accuracy: 90.91%\n"
     ]
    }
   ],
   "source": [
    "accuracy = hf_rl.evaluate(X=X_test[\"Message\"].to_list(), y=y_test)\n",
    "print(f\"Accuracy: {accuracy*100:.2f}%\")"
   ]
  },
  {
   "cell_type": "code",
   "execution_count": 27,
   "metadata": {},
   "outputs": [
    {
     "data": {
      "application/vnd.jupyter.widget-view+json": {
       "model_id": "38110635487a4ce288b33690d7f933aa",
       "version_major": 2,
       "version_minor": 0
      },
      "text/plain": [
       "Generating embeddings:   0%|          | 0/1 [00:00<?, ?it/s]"
      ]
     },
     "metadata": {},
     "output_type": "display_data"
    },
    {
     "name": "stdout",
     "output_type": "stream",
     "text": [
      "Accuracy: 81.82%\n"
     ]
    }
   ],
   "source": [
    "accuracy = oa_rl.evaluate(X=X_test[\"Message\"].to_list(), y=y_test)\n",
    "print(f\"Accuracy: {accuracy*100:.2f}%\")"
   ]
  },
  {
   "cell_type": "markdown",
   "metadata": {},
   "source": [
    "That is much better. If we wanted to optimize this further we can focus on adding more utterances to our existing routes, analyzing where exactly our failures are, and modifying our routes around those. This extended optimzation process is much more manual, but with it we can continue optimizing routes to get even better performance."
   ]
  },
  {
   "cell_type": "code",
   "execution_count": 30,
   "metadata": {},
   "outputs": [
    {
     "name": "stdout",
     "output_type": "stream",
     "text": [
      "Id: 91\n",
      "Message: Can you tell me about the gaming features of the Alienware laptop?\n",
      "True Route: product_information, Predicted Route: None\n",
      "\n"
     ]
    }
   ],
   "source": [
    "for (index, row), label in zip(X_test.iterrows(), y_test):\n",
    "    message = row[\"Message\"]\n",
    "    prediction = hf_rl(message)\n",
    "\n",
    "    if prediction.name == label:\n",
    "        continue\n",
    "    else:\n",
    "        print(f\"Id: {index}\")\n",
    "        print(f\"Message: {message}\")\n",
    "        print(f\"True Route: {label}, Predicted Route: {prediction.name}\")\n",
    "        print()"
   ]
  },
  {
   "cell_type": "code",
   "execution_count": null,
   "metadata": {},
   "outputs": [
    {
     "name": "stdout",
     "output_type": "stream",
     "text": [
      "Id: 91\n",
      "Message: Can you tell me about the gaming features of the Alienware laptop?\n",
      "True Route: product_information, Predicted Route: None\n",
      "\n",
      "Id: 78\n",
      "Message: What is the storage capacity of the Samsung Galaxy Tab?\n",
      "True Route: product_information, Predicted Route: None\n",
      "\n"
     ]
    }
   ],
   "source": [
    "for (index, row), label in zip(X_test.iterrows(), y_test):\n",
    "    message = row[\"Message\"]\n",
    "    prediction = oa_rl(message)\n",
    "\n",
    "    if prediction.name == label:\n",
    "        continue\n",
    "    else:\n",
    "        print(f\"Id: {index}\")\n",
    "        print(f\"Message: {message}\")\n",
    "        print(f\"True Route: {label}, Predicted Route: {prediction.name}\")\n",
    "        print()"
   ]
  },
  {
   "cell_type": "markdown",
   "metadata": {},
   "source": [
    "# Save the Route Layer"
   ]
  },
  {
   "cell_type": "markdown",
   "metadata": {},
   "source": [
    "To save our route layer we call the to_json method:"
   ]
  },
  {
   "cell_type": "code",
   "execution_count": 32,
   "metadata": {},
   "outputs": [
    {
     "name": "stderr",
     "output_type": "stream",
     "text": [
      "\u001b[32m2024-11-19 11:19:45 INFO semantic_router.utils.logger Saving route config to layer.json\u001b[0m\n"
     ]
    }
   ],
   "source": [
    "hf_rl.to_json(\"layer.json\")"
   ]
  },
  {
   "cell_type": "markdown",
   "metadata": {},
   "source": [
    "# Load the Route Layer"
   ]
  },
  {
   "cell_type": "markdown",
   "metadata": {},
   "source": [
    "We can view the router file we just saved to see what information is stored."
   ]
  },
  {
   "cell_type": "code",
   "execution_count": null,
   "metadata": {},
   "outputs": [
    {
     "name": "stdout",
     "output_type": "stream",
     "text": [
      "{'encoder_type': 'openai', 'encoder_name': 'text-embedding-3-small', 'routes': [{'name': 'chitchat', 'utterances': ['How do you usually spend your evenings?', 'What’s your favorite way to stay active?', \"What's the best concert you've ever been to?\", 'Have you seen any good movies lately?', 'Have you ever tried meditation?', 'How do you feel about social media?', 'Do you have any fun plans for the weekend?', 'What’s a fun fact about yourself?', \"What's your favorite type of music?\", 'What’s your go-to comfort food?', \"What's your favorite holiday?\", \"What's your favorite way to relax?\", 'What’s something you’ve always wanted to learn?', 'Do you have any pets?', 'I love trying new recipes, do you cook?', \"What's your favorite season of the year?\", 'Do you like to play video games?', 'Do you prefer coffee or tea?', 'Have you traveled anywhere interesting recently?', \"How's your day going?\", 'What do you think about the weather today?', 'I enjoy hiking, do you like outdoor activities?', 'I just finished a great book, have you read anything good?', 'What hobbies do you enjoy?', 'Do you enjoy any sports?', 'Do you have a favorite childhood memory?'], 'description': None, 'function_schemas': None, 'llm': None, 'score_threshold': 0.5555555555555556, 'metadata': {}}, {'name': 'order_status', 'utterances': ['Is there any news on my order #33333?', 'What’s the latest on my order #21222?', 'I’d like to know the status of order #99001.', 'Can you confirm the delivery date for order #13141?', 'When can I expect my order #98765 to arrive?', 'Please update me on the status of order #33445.', 'I need an update on order #17181.', 'When should I expect my order #27272 to arrive?', 'Has my order #22334 shipped yet?', 'What’s the current status of my order #31313?', 'Can you tell me if order #35353 has shipped?', 'Can you tell me the location of my order #77889?', 'Can you provide an update on order #29292?', 'When will I receive my order #88990?', 'What’s the delivery date for my order #55667?', 'Is order #19202 out for delivery?', 'What is the current status of my order #67890?', 'Can you track my order #23232 for me?', 'What’s the status of my recent order #25252?', 'What’s the expected delivery time for order #44556?', 'Can you provide the status of my order #12345?', 'Is my order #11223 still on track for delivery?', 'Where is my order #54321 right now?', 'Can you check the status of my order #66778?', 'Where is my package for order #15161?', 'What’s happening with my order #10112?'], 'description': None, 'function_schemas': None, 'llm': None, 'score_threshold': 0.8484848484848485, 'metadata': {}}, {'name': 'product_information', 'utterances': ['What accessories come with the Apple Watch Series 7?', 'Tell me about the camera quality of the OnePlus 9.', 'Is there a user manual available for this product?', 'Is there a warranty for this product?', 'What is the price range for the latest Samsung TVs?', 'How many megapixels does the Canon EOS R5 have?', 'Can you explain the features of the GoPro Hero 10?', 'Can you provide details about the Dell XPS 13?', 'Can you give me a description of the Fitbit Charge 5?', 'What is the battery life of the Sony WH-1000XM4?', 'Can you provide information on the latest Apple AirPods?', 'What colors are available for the Google Pixel 6?', 'What are the dimensions of the Nintendo Switch?', 'What are the specifications of the Samsung Galaxy S21?', 'Can you tell me about the sound quality of the JBL Flip 5?', 'What is the weight of the Razer Blade 15?', 'Are there any discounts on the Bose SoundLink?', 'How does the performance of the ASUS ROG Zephyrus compare?', 'What type of warranty does the HP Spectre x360 offer?', 'What is the storage capacity of the Samsung Galaxy Tab?', 'What are the key features of the Microsoft Surface Pro 8?', 'How much does the MacBook Air cost?', 'What is the model number for the LG OLED TV?', 'Is this product compatible with Android devices?', 'Can you tell me the features of the latest iPhone?', 'What is the release date for the new Xbox Series X?'], 'description': None, 'function_schemas': None, 'llm': None, 'score_threshold': 0.5555555555555556, 'metadata': {}}, {'name': 'create_order', 'utterances': ['I’m ready to create an order for this product.', 'Can you help me finalize my order for it?', \"I'd like to order this product now.\", 'Can you help me with ordering it?', 'Can you process my order for it?', 'I’d like to proceed with the order for this product.', 'Please help me create an order for this product.', 'I want to place an order for this product.', 'I’m ready to order this product.', 'Let’s get this product ordered.', 'I want to order this product now.', 'Please proceed with the order for it.', 'Let’s finalize the order for it.', 'Please place an order for it.', 'Can you help me place an order for it?', 'I want to go ahead and order this item.', 'I want to create an order for this product.', 'I’d like to finalize my order for it.', 'Can you help me order this product?', 'I’m ready to create an order for this item.', 'Can you assist me in placing an order for this product?', 'I’m looking to order it right away.', 'I want to confirm my order for it.', 'Please assist me in ordering this product.', 'I’d like to place an order for this item.', 'Let’s go ahead and order it.'], 'description': None, 'function_schemas': None, 'llm': None, 'score_threshold': 0.19191919191919193, 'metadata': {}}]}\n"
     ]
    }
   ],
   "source": [
    "import json\n",
    "\n",
    "with open(\"layer.json\", \"r\") as f:\n",
    "    layer_json = json.load(f)\n",
    "\n",
    "print(layer_json)"
   ]
  },
  {
   "cell_type": "markdown",
   "metadata": {},
   "source": [
    "It tells us our encoder type, encoder name, and routes. This is everything we need to initialize a new router. To do so, we use the from_json method."
   ]
  },
  {
   "cell_type": "code",
   "execution_count": null,
   "metadata": {},
   "outputs": [],
   "source": [
    "rl = RouteLayer.from_json(\"layer.json\")"
   ]
  }
 ],
 "metadata": {
  "kernelspec": {
   "display_name": "codeproject-WtLDeebZ-py3.11",
   "language": "python",
   "name": "python3"
  },
  "language_info": {
   "codemirror_mode": {
    "name": "ipython",
    "version": 3
   },
   "file_extension": ".py",
   "mimetype": "text/x-python",
   "name": "python",
   "nbconvert_exporter": "python",
   "pygments_lexer": "ipython3",
   "version": "3.11.8"
  }
 },
 "nbformat": 4,
 "nbformat_minor": 2
}
