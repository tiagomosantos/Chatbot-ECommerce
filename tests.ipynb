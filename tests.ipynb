{
 "cells": [
  {
   "cell_type": "markdown",
   "metadata": {},
   "source": [
    "## Purpose\n",
    "\n",
    "This document is intended for professor to test individual intention implementations. Each test ensures that specific intents behave as expected when given predefined inputs.\n",
    "\n",
    "## Examples of Messages to Test Each Intention\n",
    "\n",
    "1. **Intent Name**  \n",
    "   _e.g., Retrieve Company Info_\n",
    "\n",
    "2. **Example Inputs**  \n",
    "   - \"Tell me about the company.\"  \n",
    "   - \"What is your mission statement?\"\n",
    "\n",
    "3. **Expected Outputs**  \n",
    "   - \"Our company specializes in renewable energy.\"  \n",
    "   - \"The mission is to provide eco-friendly energy solutions.\""
   ]
  },
  {
   "cell_type": "code",
   "execution_count": 2,
   "metadata": {},
   "outputs": [],
   "source": [
    "# Now you can try importing your module\n",
    "from cobuy.chatbot.chains.product_info import ProductInfoReasoningChain, ProductInfoResponseChain"
   ]
  },
  {
   "cell_type": "code",
   "execution_count": null,
   "metadata": {},
   "outputs": [],
   "source": []
  }
 ],
 "metadata": {
  "kernelspec": {
   "display_name": "codeproject-WtLDeebZ-py3.11",
   "language": "python",
   "name": "python3"
  },
  "language_info": {
   "codemirror_mode": {
    "name": "ipython",
    "version": 3
   },
   "file_extension": ".py",
   "mimetype": "text/x-python",
   "name": "python",
   "nbconvert_exporter": "python",
   "pygments_lexer": "ipython3",
   "version": "3.11.8"
  }
 },
 "nbformat": 4,
 "nbformat_minor": 2
}
